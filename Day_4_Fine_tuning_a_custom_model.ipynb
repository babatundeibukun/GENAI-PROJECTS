{
  "metadata": {
    "kernelspec": {
      "name": "python3",
      "display_name": "Python 3",
      "language": "python"
    },
    "language_info": {
      "name": "python",
      "version": "3.10.14",
      "mimetype": "text/x-python",
      "codemirror_mode": {
        "name": "ipython",
        "version": 3
      },
      "pygments_lexer": "ipython3",
      "nbconvert_exporter": "python",
      "file_extension": ".py"
    },
    "colab": {
      "toc_visible": true,
      "name": "Day 4 - Fine tuning a custom model",
      "provenance": [],
      "include_colab_link": true
    },
    "kaggle": {
      "accelerator": "none",
      "dataSources": [],
      "dockerImageVersionId": 30786,
      "isInternetEnabled": true,
      "language": "python",
      "sourceType": "notebook",
      "isGpuEnabled": false
    }
  },
  "nbformat_minor": 0,
  "nbformat": 4,
  "cells": [
    {
      "cell_type": "markdown",
      "metadata": {
        "id": "view-in-github",
        "colab_type": "text"
      },
      "source": [
        "<a href=\"https://colab.research.google.com/github/babatundeibukun/GENAI-PROJECTS/blob/main/Day_4_Fine_tuning_a_custom_model.ipynb\" target=\"_parent\"><img src=\"https://colab.research.google.com/assets/colab-badge.svg\" alt=\"Open In Colab\"/></a>"
      ]
    },
    {
      "cell_type": "markdown",
      "source": [
        "##### Copyright 2024 Google LLC."
      ],
      "metadata": {
        "id": "b6e13eef3f5d"
      }
    },
    {
      "cell_type": "code",
      "source": [
        "# @title Licensed under the Apache License, Version 2.0 (the \"License\");\n",
        "# you may not use this file except in compliance with the License.\n",
        "# You may obtain a copy of the License at\n",
        "#\n",
        "# https://www.apache.org/licenses/LICENSE-2.0\n",
        "#\n",
        "# Unless required by applicable law or agreed to in writing, software\n",
        "# distributed under the License is distributed on an \"AS IS\" BASIS,\n",
        "# WITHOUT WARRANTIES OR CONDITIONS OF ANY KIND, either express or implied.\n",
        "# See the License for the specific language governing permissions and\n",
        "# limitations under the License."
      ],
      "metadata": {
        "cellView": "form",
        "id": "d6597b11df14",
        "jupyter": {
          "source_hidden": true
        },
        "trusted": true,
        "execution": {
          "iopub.status.busy": "2024-11-14T03:23:58.909404Z",
          "iopub.execute_input": "2024-11-14T03:23:58.909977Z",
          "iopub.status.idle": "2024-11-14T03:23:58.933914Z",
          "shell.execute_reply.started": "2024-11-14T03:23:58.909929Z",
          "shell.execute_reply": "2024-11-14T03:23:58.932716Z"
        }
      },
      "outputs": [],
      "execution_count": null
    },
    {
      "cell_type": "markdown",
      "source": [
        "# Day 4 - Fine tuning a custom model\n",
        "\n",
        "Welcome back to the Kaggle 5-day Generative AI course!\n",
        "\n",
        "In this notebook you will use the Gemini API to fine-tune a custom, task-specific model. Fine-tuning can be used for a variety of tasks from classic NLP problems like entity extraction or summarisation, to creative tasks like stylised generation. You will fine-tune a model to classify the category a piece of text (a newsgroup post) into the category it belongs to (the newsgroup name).\n",
        "\n",
        "This codelab walks you tuning a model with the API. [AI Studio](https://aistudio.google.com/app/tune) also supports creating new tuned models directly in the web UI, allowing you to quickly create and monitor models using data from Google Sheets, Drive or your own files."
      ],
      "metadata": {
        "id": "4KDIFPAL2EnL"
      }
    },
    {
      "cell_type": "code",
      "source": [
        "%pip install -U -q 'google-generativeai>=0.8.3'"
      ],
      "metadata": {
        "id": "9wafTyEH1_xF",
        "trusted": true,
        "execution": {
          "iopub.status.busy": "2024-11-15T01:59:31.304916Z",
          "iopub.execute_input": "2024-11-15T01:59:31.305494Z",
          "iopub.status.idle": "2024-11-15T01:59:57.574385Z",
          "shell.execute_reply.started": "2024-11-15T01:59:31.305413Z",
          "shell.execute_reply": "2024-11-15T01:59:57.57303Z"
        },
        "outputId": "dc8ae40d-207a-4a6b-d27b-025f2512ec2e"
      },
      "outputs": [
        {
          "name": "stdout",
          "text": "Note: you may need to restart the kernel to use updated packages.\n",
          "output_type": "stream"
        }
      ],
      "execution_count": null
    },
    {
      "cell_type": "markdown",
      "source": [
        "Note that you do not have to restart the kernel."
      ],
      "metadata": {
        "id": "3i_zmv2_ipaJ"
      }
    },
    {
      "cell_type": "code",
      "source": [
        "import google.generativeai as genai"
      ],
      "metadata": {
        "id": "T0CBG9xL2PvT",
        "trusted": true,
        "execution": {
          "iopub.status.busy": "2024-11-15T02:00:02.329972Z",
          "iopub.execute_input": "2024-11-15T02:00:02.330423Z",
          "iopub.status.idle": "2024-11-15T02:00:03.473064Z",
          "shell.execute_reply.started": "2024-11-15T02:00:02.330382Z",
          "shell.execute_reply": "2024-11-15T02:00:03.472024Z"
        }
      },
      "outputs": [],
      "execution_count": null
    },
    {
      "cell_type": "markdown",
      "source": [
        "### Set up your API key\n",
        "\n",
        "To run the following cell, your API key must be stored it in a [Kaggle secret](https://www.kaggle.com/discussions/product-feedback/114053) named `GOOGLE_API_KEY`.\n",
        "\n",
        "If you don't already have an API key, you can grab one from [AI Studio](https://aistudio.google.com/app/apikey). You can find [detailed instructions in the docs](https://ai.google.dev/gemini-api/docs/api-key).\n",
        "\n",
        "To make the key available through Kaggle secrets, choose `Secrets` from the `Add-ons` menu and follow the instructions to add your key or enable it for this notebook."
      ],
      "metadata": {
        "id": "P4bYX2T72ScK"
      }
    },
    {
      "cell_type": "code",
      "source": [
        "from kaggle_secrets import UserSecretsClient\n",
        "\n",
        "GOOGLE_API_KEY = UserSecretsClient().get_secret(\"GOOGLE_API_KEY\")\n",
        "genai.configure(api_key=GOOGLE_API_KEY)"
      ],
      "metadata": {
        "id": "VuJPY3GK2SLZ",
        "trusted": true,
        "execution": {
          "iopub.status.busy": "2024-11-15T02:00:13.095256Z",
          "iopub.execute_input": "2024-11-15T02:00:13.097281Z",
          "iopub.status.idle": "2024-11-15T02:00:13.382462Z",
          "shell.execute_reply.started": "2024-11-15T02:00:13.097229Z",
          "shell.execute_reply": "2024-11-15T02:00:13.381217Z"
        }
      },
      "outputs": [],
      "execution_count": null
    },
    {
      "cell_type": "markdown",
      "source": [
        "If you received an error response along the lines of `No user secrets exist for kernel id ...`, then you need to add your API key via `Add-ons`, `Secrets` **and** enable it.\n",
        "\n",
        "![Screenshot of the checkbox to enable GOOGLE_API_KEY secret](https://storage.googleapis.com/kaggle-media/Images/5gdai_sc_3.png)"
      ],
      "metadata": {
        "id": "25b2127c2052"
      }
    },
    {
      "cell_type": "markdown",
      "source": [
        "### Explore available models\n",
        "\n",
        "You will be using the [`TunedModel.create`](https://ai.google.dev/api/tuning#method:-tunedmodels.create) API method to start the fine-tuning job and create your custom model. Find a model that supports it through the [`models.list`](https://ai.google.dev/api/models#method:-models.list) endpoint. You can also find more information about tuning models in [the model tuning docs](https://ai.google.dev/gemini-api/docs/model-tuning/tutorial?lang=python)."
      ],
      "metadata": {
        "id": "CqVA5QFO6n4z"
      }
    },
    {
      "cell_type": "code",
      "source": [
        "for model in genai.list_models():\n",
        "    if \"createTunedModel\" in model.supported_generation_methods:\n",
        "        print(model.name)"
      ],
      "metadata": {
        "id": "coEacWAB6o0G",
        "trusted": true,
        "execution": {
          "iopub.status.busy": "2024-11-15T02:00:22.165414Z",
          "iopub.execute_input": "2024-11-15T02:00:22.165926Z",
          "iopub.status.idle": "2024-11-15T02:00:23.06416Z",
          "shell.execute_reply.started": "2024-11-15T02:00:22.16588Z",
          "shell.execute_reply": "2024-11-15T02:00:23.06295Z"
        },
        "outputId": "87003a49-e79a-4233-8db5-f82f714ba705"
      },
      "outputs": [
        {
          "name": "stdout",
          "text": "models/gemini-1.0-pro-001\nmodels/gemini-1.5-flash-001-tuning\n",
          "output_type": "stream"
        }
      ],
      "execution_count": null
    },
    {
      "cell_type": "markdown",
      "source": [
        "## Download the dataset\n",
        "\n",
        "In this activity, you will use the same newsgroups dataset that you used to train a classifier in Keras. In this example you will use a fine-tuned Gemini model to achieve the same goal.\n",
        "\n",
        "The [20 Newsgroups Text Dataset](https://scikit-learn.org/0.19/datasets/twenty_newsgroups.html) contains 18,000 newsgroups posts on 20 topics divided into training and test sets."
      ],
      "metadata": {
        "id": "peFm0w_0c1CO"
      }
    },
    {
      "cell_type": "code",
      "source": [
        "from sklearn.datasets import fetch_20newsgroups\n",
        "\n",
        "newsgroups_train = fetch_20newsgroups(subset=\"train\")\n",
        "newsgroups_test = fetch_20newsgroups(subset=\"test\")\n",
        "\n",
        "# View list of class names for dataset\n",
        "newsgroups_train.target_names"
      ],
      "metadata": {
        "id": "bX_kpgnQ9b-Z",
        "trusted": true,
        "execution": {
          "iopub.status.busy": "2024-11-15T02:00:26.555078Z",
          "iopub.execute_input": "2024-11-15T02:00:26.555919Z",
          "iopub.status.idle": "2024-11-15T02:00:49.874038Z",
          "shell.execute_reply.started": "2024-11-15T02:00:26.555853Z",
          "shell.execute_reply": "2024-11-15T02:00:49.872947Z"
        },
        "outputId": "562a6dbf-2311-4bd5-da3f-9826b4e5fcaf"
      },
      "outputs": [
        {
          "execution_count": 5,
          "output_type": "execute_result",
          "data": {
            "text/plain": "['alt.atheism',\n 'comp.graphics',\n 'comp.os.ms-windows.misc',\n 'comp.sys.ibm.pc.hardware',\n 'comp.sys.mac.hardware',\n 'comp.windows.x',\n 'misc.forsale',\n 'rec.autos',\n 'rec.motorcycles',\n 'rec.sport.baseball',\n 'rec.sport.hockey',\n 'sci.crypt',\n 'sci.electronics',\n 'sci.med',\n 'sci.space',\n 'soc.religion.christian',\n 'talk.politics.guns',\n 'talk.politics.mideast',\n 'talk.politics.misc',\n 'talk.religion.misc']"
          },
          "metadata": {}
        }
      ],
      "execution_count": null
    },
    {
      "cell_type": "markdown",
      "source": [
        "Here's what a single row looks like."
      ],
      "metadata": {
        "id": "ipafe6ptZFjt"
      }
    },
    {
      "cell_type": "code",
      "source": [
        "print(newsgroups_train.data[0])"
      ],
      "metadata": {
        "id": "EtEXcdT39hCB",
        "trusted": true,
        "execution": {
          "iopub.status.busy": "2024-11-15T02:00:49.876018Z",
          "iopub.execute_input": "2024-11-15T02:00:49.876385Z",
          "iopub.status.idle": "2024-11-15T02:00:49.881786Z",
          "shell.execute_reply.started": "2024-11-15T02:00:49.876348Z",
          "shell.execute_reply": "2024-11-15T02:00:49.880644Z"
        },
        "outputId": "04c3161e-2496-46f1-dd3e-34eb622db660"
      },
      "outputs": [
        {
          "name": "stdout",
          "text": "From: lerxst@wam.umd.edu (where's my thing)\nSubject: WHAT car is this!?\nNntp-Posting-Host: rac3.wam.umd.edu\nOrganization: University of Maryland, College Park\nLines: 15\n\n I was wondering if anyone out there could enlighten me on this car I saw\nthe other day. It was a 2-door sports car, looked to be from the late 60s/\nearly 70s. It was called a Bricklin. The doors were really small. In addition,\nthe front bumper was separate from the rest of the body. This is \nall I know. If anyone can tellme a model name, engine specs, years\nof production, where this car is made, history, or whatever info you\nhave on this funky looking car, please e-mail.\n\nThanks,\n- IL\n   ---- brought to you by your neighborhood Lerxst ----\n\n\n\n\n\n",
          "output_type": "stream"
        }
      ],
      "execution_count": null
    },
    {
      "cell_type": "markdown",
      "source": [
        "## Prepare the dataset\n",
        "\n",
        "You'll use the same pre-processing code you used for the custom model on day 2. This pre-processing removes personal information, which can be used to \"shortcut\" to known users of a forum, and formats the text to appear a bit more like regular text and less like a newsgroup post (e.g. by removing the mail headers). This normalisation allows the model to generalise to regular text and not over-depend on specific fields. If your input data is always going to be newsgroup posts, it may be helpful to leave this structure in place if they provide genuine signals."
      ],
      "metadata": {
        "id": "03lDs1O4ZQ0-"
      }
    },
    {
      "cell_type": "code",
      "source": [
        "import email\n",
        "import re\n",
        "\n",
        "import pandas as pd\n",
        "\n",
        "\n",
        "def preprocess_newsgroup_row(data):\n",
        "    # Extract only the subject and body\n",
        "    msg = email.message_from_string(data)\n",
        "    text = f\"{msg['Subject']}\\n\\n{msg.get_payload()}\"\n",
        "    # Strip any remaining email addresses\n",
        "    text = re.sub(r\"[\\w\\.-]+@[\\w\\.-]+\", \"\", text)\n",
        "    # Truncate the text to fit within the input limits\n",
        "    text = text[:40000]\n",
        "\n",
        "    return text\n",
        "\n",
        "\n",
        "def preprocess_newsgroup_data(newsgroup_dataset):\n",
        "    # Put data points into dataframe\n",
        "    df = pd.DataFrame(\n",
        "        {\"Text\": newsgroup_dataset.data, \"Label\": newsgroup_dataset.target}\n",
        "    )\n",
        "    # Clean up the text\n",
        "    df[\"Text\"] = df[\"Text\"].apply(preprocess_newsgroup_row)\n",
        "    # Match label to target name index\n",
        "    df[\"Class Name\"] = df[\"Label\"].map(lambda l: newsgroup_dataset.target_names[l])\n",
        "\n",
        "    return df"
      ],
      "metadata": {
        "id": "IoNYTxpoZgB0",
        "trusted": true,
        "execution": {
          "iopub.status.busy": "2024-11-15T02:01:11.17594Z",
          "iopub.execute_input": "2024-11-15T02:01:11.176415Z",
          "iopub.status.idle": "2024-11-15T02:01:11.646273Z",
          "shell.execute_reply.started": "2024-11-15T02:01:11.176374Z",
          "shell.execute_reply": "2024-11-15T02:01:11.645319Z"
        }
      },
      "outputs": [],
      "execution_count": null
    },
    {
      "cell_type": "code",
      "source": [
        "# Apply preprocessing to training and test datasets\n",
        "df_train = preprocess_newsgroup_data(newsgroups_train)\n",
        "df_test = preprocess_newsgroup_data(newsgroups_test)\n",
        "\n",
        "df_train.head()"
      ],
      "metadata": {
        "id": "kvOsUSRWaW4g",
        "trusted": true,
        "execution": {
          "iopub.status.busy": "2024-11-15T02:01:14.77025Z",
          "iopub.execute_input": "2024-11-15T02:01:14.770833Z",
          "iopub.status.idle": "2024-11-15T02:01:18.668709Z",
          "shell.execute_reply.started": "2024-11-15T02:01:14.770792Z",
          "shell.execute_reply": "2024-11-15T02:01:18.667673Z"
        },
        "outputId": "a40d5fc9-3d78-49db-ce3b-0abee11297ab"
      },
      "outputs": [
        {
          "execution_count": 8,
          "output_type": "execute_result",
          "data": {
            "text/plain": "                                                Text  Label  \\\n0  WHAT car is this!?\\n\\n I was wondering if anyo...      7   \n1  SI Clock Poll - Final Call\\n\\nA fair number of...      4   \n2  PB questions...\\n\\nwell folks, my mac plus fin...      4   \n3  Re: Weitek P9000 ?\\n\\nRobert J.C. Kyanko () wr...      1   \n4  Re: Shuttle Launch Question\\n\\nFrom article <>...     14   \n\n              Class Name  \n0              rec.autos  \n1  comp.sys.mac.hardware  \n2  comp.sys.mac.hardware  \n3          comp.graphics  \n4              sci.space  ",
            "text/html": "<div>\n<style scoped>\n    .dataframe tbody tr th:only-of-type {\n        vertical-align: middle;\n    }\n\n    .dataframe tbody tr th {\n        vertical-align: top;\n    }\n\n    .dataframe thead th {\n        text-align: right;\n    }\n</style>\n<table border=\"1\" class=\"dataframe\">\n  <thead>\n    <tr style=\"text-align: right;\">\n      <th></th>\n      <th>Text</th>\n      <th>Label</th>\n      <th>Class Name</th>\n    </tr>\n  </thead>\n  <tbody>\n    <tr>\n      <th>0</th>\n      <td>WHAT car is this!?\\n\\n I was wondering if anyo...</td>\n      <td>7</td>\n      <td>rec.autos</td>\n    </tr>\n    <tr>\n      <th>1</th>\n      <td>SI Clock Poll - Final Call\\n\\nA fair number of...</td>\n      <td>4</td>\n      <td>comp.sys.mac.hardware</td>\n    </tr>\n    <tr>\n      <th>2</th>\n      <td>PB questions...\\n\\nwell folks, my mac plus fin...</td>\n      <td>4</td>\n      <td>comp.sys.mac.hardware</td>\n    </tr>\n    <tr>\n      <th>3</th>\n      <td>Re: Weitek P9000 ?\\n\\nRobert J.C. Kyanko () wr...</td>\n      <td>1</td>\n      <td>comp.graphics</td>\n    </tr>\n    <tr>\n      <th>4</th>\n      <td>Re: Shuttle Launch Question\\n\\nFrom article &lt;&gt;...</td>\n      <td>14</td>\n      <td>sci.space</td>\n    </tr>\n  </tbody>\n</table>\n</div>"
          },
          "metadata": {}
        }
      ],
      "execution_count": null
    },
    {
      "cell_type": "markdown",
      "source": [
        "Now sample the data. You will keep 50 rows for each category for training. Note that this is even fewer than the Keras example, as this technique (parameter-efficient fine-tuning, or PEFT) updates a relatively small number of parameters and does not require training a new model or updating the large model."
      ],
      "metadata": {
        "id": "XSKcj5WtadaR"
      }
    },
    {
      "cell_type": "code",
      "source": [
        "def sample_data(df, num_samples, classes_to_keep):\n",
        "    # Sample rows, selecting num_samples of each Label.\n",
        "    df = (\n",
        "        df.groupby(\"Label\")[df.columns]\n",
        "        .apply(lambda x: x.sample(num_samples))\n",
        "        .reset_index(drop=True)\n",
        "    )\n",
        "\n",
        "    df = df[df[\"Class Name\"].str.contains(classes_to_keep)]\n",
        "    df[\"Class Name\"] = df[\"Class Name\"].astype(\"category\")\n",
        "\n",
        "    return df\n",
        "\n",
        "\n",
        "TRAIN_NUM_SAMPLES = 50\n",
        "TEST_NUM_SAMPLES = 10\n",
        "# Keep rec.* and sci.*\n",
        "CLASSES_TO_KEEP = \"^rec|^sci\"\n",
        "\n",
        "df_train = sample_data(df_train, TRAIN_NUM_SAMPLES, CLASSES_TO_KEEP)\n",
        "df_test = sample_data(df_test, TEST_NUM_SAMPLES, CLASSES_TO_KEEP)"
      ],
      "metadata": {
        "id": "0t9Xu6X5akkt",
        "trusted": true,
        "execution": {
          "iopub.status.busy": "2024-11-15T02:01:19.770173Z",
          "iopub.execute_input": "2024-11-15T02:01:19.77058Z",
          "iopub.status.idle": "2024-11-15T02:01:19.823465Z",
          "shell.execute_reply.started": "2024-11-15T02:01:19.770543Z",
          "shell.execute_reply": "2024-11-15T02:01:19.822306Z"
        }
      },
      "outputs": [],
      "execution_count": null
    },
    {
      "cell_type": "markdown",
      "source": [
        "## Evaluate baseline performance\n",
        "\n",
        "Before you start tuning a model, it's good practice to perform an evaluation on the available models to ensure you can measure how much the tuning helps.\n",
        "\n",
        "First identify a single sample row to use for visual inspection."
      ],
      "metadata": {
        "id": "fbE3qPTkipaP"
      }
    },
    {
      "cell_type": "code",
      "source": [
        "sample_idx = 0\n",
        "sample_row = preprocess_newsgroup_row(newsgroups_test.data[sample_idx])\n",
        "sample_label = newsgroups_test.target_names[newsgroups_test.target[sample_idx]]\n",
        "\n",
        "print(sample_row)\n",
        "print('---')\n",
        "print('Label:', sample_label)"
      ],
      "metadata": {
        "trusted": true,
        "execution": {
          "iopub.status.busy": "2024-11-15T02:01:24.945227Z",
          "iopub.execute_input": "2024-11-15T02:01:24.945775Z",
          "iopub.status.idle": "2024-11-15T02:01:24.953802Z",
          "shell.execute_reply.started": "2024-11-15T02:01:24.945726Z",
          "shell.execute_reply": "2024-11-15T02:01:24.952284Z"
        },
        "id": "EcPTV62zipaQ",
        "outputId": "42ee4e23-09fe-4992-cf7b-c4c02b8bf9f3"
      },
      "outputs": [
        {
          "name": "stdout",
          "text": "Need info on 88-89 Bonneville\n\n\n I am a little confused on all of the models of the 88-89 bonnevilles.\nI have heard of the LE SE LSE SSE SSEI. Could someone tell me the\ndifferences are far as features or performance. I am also curious to\nknow what the book value is for prefereably the 89 model. And how much\nless than book value can you usually get them for. In other words how\nmuch are they in demand this time of year. I have heard that the mid-spring\nearly summer is the best time to buy.\n\n\t\t\tNeil Gandler\n\n---\nLabel: rec.autos\n",
          "output_type": "stream"
        }
      ],
      "execution_count": null
    },
    {
      "cell_type": "markdown",
      "source": [
        "Passing the text directly in as a prompt does not yield the desired results. The model will attempt to respond to the message."
      ],
      "metadata": {
        "id": "W1OiguFQipaQ"
      }
    },
    {
      "cell_type": "code",
      "source": [
        "baseline_model = genai.GenerativeModel(\"gemini-1.5-flash-001\")\n",
        "response = baseline_model.generate_content(sample_row)\n",
        "print(response.text)"
      ],
      "metadata": {
        "trusted": true,
        "execution": {
          "iopub.status.busy": "2024-11-15T02:01:31.969152Z",
          "iopub.execute_input": "2024-11-15T02:01:31.970204Z",
          "iopub.status.idle": "2024-11-15T02:01:36.035129Z",
          "shell.execute_reply.started": "2024-11-15T02:01:31.970153Z",
          "shell.execute_reply": "2024-11-15T02:01:36.033747Z"
        },
        "id": "Fsx45167ipaQ",
        "outputId": "8806d709-ac34-4804-e9b5-d2f22b880e20"
      },
      "outputs": [
        {
          "name": "stdout",
          "text": "## 1988-1989 Pontiac Bonneville: A Model Breakdown\n\nYou're right, the 1988-1989 Bonneville lineup was diverse, making it confusing for those unfamiliar with the trims! Here's a breakdown:\n\n**Base Model:** This was the most basic Bonneville. It came with a 3.8L V6 engine and standard features like power steering, brakes, and windows. \n\n**LE:**  The LE (Luxury Edition) offered a more upscale experience with features like cloth upholstery, upgraded interior trim, and possibly options like cruise control, air conditioning, and power seats.\n\n**SE:** The SE (Sport Edition) was more performance-focused. It featured a 3.8L V6 with a higher horsepower rating,  sport-tuned suspension, and a more aggressive exterior styling.\n\n**LSE:**  The LSE (Luxury Sport Edition) combined the luxury features of the LE with the sporty enhancements of the SE. This gave you a car that could handle well while still offering a comfortable ride.\n\n**SSE:** The SSE (Sport Sedan Executive) was the top-of-the-line performance model. It was powered by a 3.8L V6 with even more horsepower than the SE and featured a unique body kit, leather interior, and a sport-tuned suspension.\n\n**SSEi:** The SSEi (Sport Sedan Executive Injected)  was a special edition version of the SSE that was only offered for a limited time. It featured a 3.8L V6 with fuel injection, and a slightly more aggressive exterior styling. \n\n**Book Value:**  Book value varies greatly depending on condition, mileage, and options. It's best to use resources like **Kelley Blue Book (KBB)** or **Edmunds** to get an accurate estimate for a specific 1989 Bonneville model.\n\n**Demand and Price:**  The demand for 1989 Bonnevilles is generally low, especially for the base model. However, the SE, SSE, and SSEi are more sought-after, especially in good condition. \n\n**Buying Time:**  You are correct, mid-spring to early summer is often considered a good time to buy used vehicles as dealers look to clear out inventory. However, remember that pricing will vary based on individual vehicle condition and market fluctuations. \n\n**Tips for Finding a Good Deal:**\n\n* **Thorough Inspection:**  Always have any potential Bonneville inspected by a trusted mechanic before purchasing.\n* **Negotiation:**  Don't be afraid to negotiate, as prices can be flexible depending on the seller's motivation. \n* **Research:**  Before you start shopping, research what similar vehicles are selling for in your area. This will help you know what to expect.\n* **Consider Options:**  While the SSEi might be the most desirable, the LE or SE could offer a good value if you're not looking for the ultimate performance.\n\nBy doing your research and taking your time, you should be able to find a 1989 Bonneville that meets your needs and your budget. \n\n",
          "output_type": "stream"
        }
      ],
      "execution_count": null
    },
    {
      "cell_type": "markdown",
      "source": [
        "You can use the prompt engineering techniques you have learned this week to induce the model to perform the desired task. Try some of your own ideas and see what is effective, or check out the following cells for different approaches. Note that they have different levels of effectiveness!"
      ],
      "metadata": {
        "id": "UAXb3vPvipaR"
      }
    },
    {
      "cell_type": "code",
      "source": [
        "# Ask the model directly in a zero-shot prompt.\n",
        "\n",
        "prompt = \"From what newsgroup does the following message originate?\"\n",
        "baseline_response = baseline_model.generate_content([prompt, sample_row])\n",
        "print(baseline_response.text)"
      ],
      "metadata": {
        "trusted": true,
        "execution": {
          "iopub.status.busy": "2024-11-15T02:01:47.773Z",
          "iopub.execute_input": "2024-11-15T02:01:47.773407Z",
          "iopub.status.idle": "2024-11-15T02:01:49.931942Z",
          "shell.execute_reply.started": "2024-11-15T02:01:47.773371Z",
          "shell.execute_reply": "2024-11-15T02:01:49.930782Z"
        },
        "id": "EqGqNtmkipaR",
        "outputId": "48185d48-8219-4e5e-f272-406d4b66463a"
      },
      "outputs": [
        {
          "name": "stdout",
          "text": "The message likely originates from a newsgroup dedicated to **Buick automobiles**, specifically the **Bonneville model**. \n\nHere's why:\n\n* **Content**: The message focuses on specific models and features of the 88-89 Bonneville, a Buick car.\n* **Terminology**:  The message uses terms like \"LE\", \"SE\", \"LSE\", \"SSE\", and \"SSEI\" which are trim levels commonly associated with Buick Bonnevilles of that era.\n* **Common Interest**: People interested in buying a 88-89 Bonneville would naturally seek information on specific models and their value in a newsgroup dedicated to Buick Bonnevilles.\n\nWhile the exact newsgroup name may vary, some possibilities include:\n\n* **alt.autos.buick**\n* **rec.autos.buick**\n* **alt.autos.buick.bonneville** (more specific)\n\nYou could search online for these newsgroup names or use a newsreader like \"Newsbin\" to access them and find similar discussions. \n\n",
          "output_type": "stream"
        }
      ],
      "execution_count": null
    },
    {
      "cell_type": "markdown",
      "source": [
        "That technique produces quite a verbose response. You could try and pick out the relevant text, or refine the prompt even further."
      ],
      "metadata": {
        "id": "X61OOEd4ipaR"
      }
    },
    {
      "cell_type": "code",
      "source": [
        "from google.api_core import retry\n",
        "\n",
        "# You can use a system instruction to do more direct prompting, and get a\n",
        "# more succinct answer.\n",
        "\n",
        "system_instruct = \"\"\"\n",
        "You are a classification service. You will be passed input that represents\n",
        "a newsgroup post and you must respond with the newsgroup from which the post\n",
        "originates.\n",
        "\"\"\"\n",
        "\n",
        "instructed_model = genai.GenerativeModel(\"gemini-1.5-flash-001\",\n",
        "                                         system_instruction=system_instruct)\n",
        "\n",
        "retry_policy = {\"retry\": retry.Retry(predicate=retry.if_transient_error)}\n",
        "\n",
        "# If you want to evaluate your own technique, replace this function with your\n",
        "# model, prompt and other code and return the predicted answer.\n",
        "def predict_label(post: str) -> str:\n",
        "    response = instructed_model.generate_content(post, request_options=retry_policy)\n",
        "    rc = response.candidates[0]\n",
        "\n",
        "    # Any errors, filters, recitation, etc we can mark as a general error\n",
        "    if rc.finish_reason.name != \"STOP\":\n",
        "        return \"(error)\"\n",
        "    else:\n",
        "        # Clean up the response.\n",
        "        return response.text.strip()\n",
        "\n",
        "\n",
        "prediction = predict_label(sample_row)\n",
        "\n",
        "print(prediction)\n",
        "print()\n",
        "print(\"Correct!\" if prediction == sample_label else \"Incorrect.\")"
      ],
      "metadata": {
        "trusted": true,
        "execution": {
          "iopub.status.busy": "2024-11-15T02:01:50.849747Z",
          "iopub.execute_input": "2024-11-15T02:01:50.850959Z",
          "iopub.status.idle": "2024-11-15T02:01:51.375168Z",
          "shell.execute_reply.started": "2024-11-15T02:01:50.850903Z",
          "shell.execute_reply": "2024-11-15T02:01:51.373835Z"
        },
        "id": "TuIPrlpIipaR",
        "outputId": "8b5caa22-b4d5-4cb9-e227-cd2af03ff4f0"
      },
      "outputs": [
        {
          "name": "stdout",
          "text": "rec.autos.misc\n\nIncorrect.\n",
          "output_type": "stream"
        }
      ],
      "execution_count": null
    },
    {
      "cell_type": "markdown",
      "source": [
        "Now run a short evaluation using the function defined above. The test set is further sampled to ensure the experiment runs smoothly on the API's free tier. In practice you would evaluate over the whole set."
      ],
      "metadata": {
        "id": "c0FJIFQjipaS"
      }
    },
    {
      "cell_type": "code",
      "source": [
        "from tqdm.rich import tqdm\n",
        "\n",
        "tqdm.pandas()\n",
        "\n",
        "\n",
        "# Further sample the test data to be mindful of the free-tier quota.\n",
        "df_baseline_eval = sample_data(df_test, 2, '.*')\n",
        "\n",
        "# Make predictions using the sampled data.\n",
        "df_baseline_eval['Prediction'] = df_baseline_eval['Text'].progress_apply(predict_label)\n",
        "\n",
        "# And calculate the accuracy.\n",
        "accuracy = (df_baseline_eval[\"Class Name\"] == df_baseline_eval[\"Prediction\"]).sum() / len(df_baseline_eval)\n",
        "print(f\"Accuracy: {accuracy:.2%}\")"
      ],
      "metadata": {
        "trusted": true,
        "execution": {
          "iopub.status.busy": "2024-11-15T02:01:55.625233Z",
          "iopub.execute_input": "2024-11-15T02:01:55.626337Z",
          "iopub.status.idle": "2024-11-15T02:02:32.824721Z",
          "shell.execute_reply.started": "2024-11-15T02:01:55.626284Z",
          "shell.execute_reply": "2024-11-15T02:02:32.823585Z"
        },
        "id": "zoF6rZAmipaS",
        "outputId": "116279e4-a030-4a35-ce62-bde9ae14c961"
      },
      "outputs": [
        {
          "output_type": "display_data",
          "data": {
            "text/plain": "\u001b[35m 100%\u001b[0m \u001b[38;2;114;156;31m━━━━━━━━━━━━━━━━━━━━━━━━━━━━━━━━━━━━━━━━━━━━━━━━━━━━━━━━━━━━━━━━━━━━━━━\u001b[0m \u001b[32m16/16 \u001b[0m [ \u001b[33m0:00:36\u001b[0m < \u001b[36m0:00:00\u001b[0m , \u001b[31m0 it/s\u001b[0m ]\n",
            "text/html": "<pre style=\"white-space:pre;overflow-x:auto;line-height:normal;font-family:Menlo,'DejaVu Sans Mono',consolas,'Courier New',monospace\"><span style=\"color: #800080; text-decoration-color: #800080\"> 100%</span> <span style=\"color: #729c1f; text-decoration-color: #729c1f\">━━━━━━━━━━━━━━━━━━━━━━━━━━━━━━━━━━━━━━━━━━━━━━━━━━━━━━━━━━━━━━━━━━━━━━━</span> <span style=\"color: #008000; text-decoration-color: #008000\">16/16 </span> [ <span style=\"color: #808000; text-decoration-color: #808000\">0:00:36</span> &lt; <span style=\"color: #008080; text-decoration-color: #008080\">0:00:00</span> , <span style=\"color: #800000; text-decoration-color: #800000\">0 it/s</span> ]\n</pre>\n"
          },
          "metadata": {}
        },
        {
          "output_type": "display_data",
          "data": {
            "text/plain": "",
            "text/html": "<pre style=\"white-space:pre;overflow-x:auto;line-height:normal;font-family:Menlo,'DejaVu Sans Mono',consolas,'Courier New',monospace\"></pre>\n"
          },
          "metadata": {}
        },
        {
          "output_type": "display_data",
          "data": {
            "text/plain": "\n",
            "text/html": "<pre style=\"white-space:pre;overflow-x:auto;line-height:normal;font-family:Menlo,'DejaVu Sans Mono',consolas,'Courier New',monospace\">\n</pre>\n"
          },
          "metadata": {}
        },
        {
          "name": "stdout",
          "text": "Accuracy: 25.00%\n",
          "output_type": "stream"
        }
      ],
      "execution_count": null
    },
    {
      "cell_type": "markdown",
      "source": [
        "Now take a look at the dataframe to compare the predictions with the labels."
      ],
      "metadata": {
        "id": "8nyS5TIripaS"
      }
    },
    {
      "cell_type": "code",
      "source": [
        "df_baseline_eval"
      ],
      "metadata": {
        "trusted": true,
        "execution": {
          "iopub.status.busy": "2024-11-15T02:02:32.832958Z",
          "iopub.execute_input": "2024-11-15T02:02:32.833288Z",
          "iopub.status.idle": "2024-11-15T02:02:32.846668Z",
          "shell.execute_reply.started": "2024-11-15T02:02:32.833252Z",
          "shell.execute_reply": "2024-11-15T02:02:32.845474Z"
        },
        "id": "KnZQ3ESdipaS",
        "outputId": "623a5c4b-5c48-447b-a01a-72fa4b868fbd"
      },
      "outputs": [
        {
          "execution_count": 16,
          "output_type": "execute_result",
          "data": {
            "text/plain": "                                                 Text  Label  \\\n0   Re: Mercury Villager Minivan -- good buy?\\n\\n\\...      7   \n1   Re: Changing brake fluid..is it necessary..\\n\\...      7   \n2   Re: dogs\\n\\n21 Apr 1993  (Ed Green - Pixel Cru...      8   \n3   Re: Why I wanted police officers to answer my ...      8   \n4   Re: Strike zone width 23\"\" (was Re: Jose Canse...      9   \n5   Re: Triva question on Bosio's No-hitter\\n\\n (M...      9   \n6   Re: Lemieux's Getting the Hart... Jeez I hope ...     10   \n7   Re: Caps moving ?????\\n\\n\\n   Why would Pollin...     10   \n8   Re: Overreacting (was Re: Once tapped, your co...     11   \n9   Thoughts and questions\\n\\nI just joined this g...     11   \n10  Re: Pin-out for 27C64??\\n\\nIn article <>,  (Se...     12   \n11  Data Paging Info WANTED\\n\\n\\n \\n \\n    Hello, ...     12   \n12  Re: Candida(yeast) Bloom, Fact or Fiction\\n\\nI...     13   \n13  Natural Alternatives to Estrogen\\n\\nNeed Diet ...     13   \n14  Re: Long term Human Missions\\n\\nKen Hayashida ...     14   \n15  Re: Satellite around Pluto Mission? \\n\\nIn <> ...     14   \n\n            Class Name             Prediction  \n0            rec.autos         rec.autos.misc  \n1            rec.autos  rec.autos.tech.toyota  \n2      rec.motorcycles        rec.motorcycles  \n3      rec.motorcycles       alt.politics.usa  \n4   rec.sport.baseball    rec.sports.baseball  \n5   rec.sport.baseball     rec.sport.baseball  \n6     rec.sport.hockey      rec.sports.hockey  \n7     rec.sport.hockey       rec.sport.hockey  \n8            sci.crypt           comp.org.acm  \n9            sci.crypt                (error)  \n10     sci.electronics              comp.arch  \n11     sci.electronics     comp.sys.handhelds  \n12             sci.med             alt.health  \n13             sci.med       alt.support.mrsa  \n14           sci.space         sci.space.news  \n15           sci.space              sci.space  ",
            "text/html": "<div>\n<style scoped>\n    .dataframe tbody tr th:only-of-type {\n        vertical-align: middle;\n    }\n\n    .dataframe tbody tr th {\n        vertical-align: top;\n    }\n\n    .dataframe thead th {\n        text-align: right;\n    }\n</style>\n<table border=\"1\" class=\"dataframe\">\n  <thead>\n    <tr style=\"text-align: right;\">\n      <th></th>\n      <th>Text</th>\n      <th>Label</th>\n      <th>Class Name</th>\n      <th>Prediction</th>\n    </tr>\n  </thead>\n  <tbody>\n    <tr>\n      <th>0</th>\n      <td>Re: Mercury Villager Minivan -- good buy?\\n\\n\\...</td>\n      <td>7</td>\n      <td>rec.autos</td>\n      <td>rec.autos.misc</td>\n    </tr>\n    <tr>\n      <th>1</th>\n      <td>Re: Changing brake fluid..is it necessary..\\n\\...</td>\n      <td>7</td>\n      <td>rec.autos</td>\n      <td>rec.autos.tech.toyota</td>\n    </tr>\n    <tr>\n      <th>2</th>\n      <td>Re: dogs\\n\\n21 Apr 1993  (Ed Green - Pixel Cru...</td>\n      <td>8</td>\n      <td>rec.motorcycles</td>\n      <td>rec.motorcycles</td>\n    </tr>\n    <tr>\n      <th>3</th>\n      <td>Re: Why I wanted police officers to answer my ...</td>\n      <td>8</td>\n      <td>rec.motorcycles</td>\n      <td>alt.politics.usa</td>\n    </tr>\n    <tr>\n      <th>4</th>\n      <td>Re: Strike zone width 23\"\" (was Re: Jose Canse...</td>\n      <td>9</td>\n      <td>rec.sport.baseball</td>\n      <td>rec.sports.baseball</td>\n    </tr>\n    <tr>\n      <th>5</th>\n      <td>Re: Triva question on Bosio's No-hitter\\n\\n (M...</td>\n      <td>9</td>\n      <td>rec.sport.baseball</td>\n      <td>rec.sport.baseball</td>\n    </tr>\n    <tr>\n      <th>6</th>\n      <td>Re: Lemieux's Getting the Hart... Jeez I hope ...</td>\n      <td>10</td>\n      <td>rec.sport.hockey</td>\n      <td>rec.sports.hockey</td>\n    </tr>\n    <tr>\n      <th>7</th>\n      <td>Re: Caps moving ?????\\n\\n\\n   Why would Pollin...</td>\n      <td>10</td>\n      <td>rec.sport.hockey</td>\n      <td>rec.sport.hockey</td>\n    </tr>\n    <tr>\n      <th>8</th>\n      <td>Re: Overreacting (was Re: Once tapped, your co...</td>\n      <td>11</td>\n      <td>sci.crypt</td>\n      <td>comp.org.acm</td>\n    </tr>\n    <tr>\n      <th>9</th>\n      <td>Thoughts and questions\\n\\nI just joined this g...</td>\n      <td>11</td>\n      <td>sci.crypt</td>\n      <td>(error)</td>\n    </tr>\n    <tr>\n      <th>10</th>\n      <td>Re: Pin-out for 27C64??\\n\\nIn article &lt;&gt;,  (Se...</td>\n      <td>12</td>\n      <td>sci.electronics</td>\n      <td>comp.arch</td>\n    </tr>\n    <tr>\n      <th>11</th>\n      <td>Data Paging Info WANTED\\n\\n\\n \\n \\n    Hello, ...</td>\n      <td>12</td>\n      <td>sci.electronics</td>\n      <td>comp.sys.handhelds</td>\n    </tr>\n    <tr>\n      <th>12</th>\n      <td>Re: Candida(yeast) Bloom, Fact or Fiction\\n\\nI...</td>\n      <td>13</td>\n      <td>sci.med</td>\n      <td>alt.health</td>\n    </tr>\n    <tr>\n      <th>13</th>\n      <td>Natural Alternatives to Estrogen\\n\\nNeed Diet ...</td>\n      <td>13</td>\n      <td>sci.med</td>\n      <td>alt.support.mrsa</td>\n    </tr>\n    <tr>\n      <th>14</th>\n      <td>Re: Long term Human Missions\\n\\nKen Hayashida ...</td>\n      <td>14</td>\n      <td>sci.space</td>\n      <td>sci.space.news</td>\n    </tr>\n    <tr>\n      <th>15</th>\n      <td>Re: Satellite around Pluto Mission? \\n\\nIn &lt;&gt; ...</td>\n      <td>14</td>\n      <td>sci.space</td>\n      <td>sci.space</td>\n    </tr>\n  </tbody>\n</table>\n</div>"
          },
          "metadata": {}
        }
      ],
      "execution_count": null
    },
    {
      "cell_type": "markdown",
      "source": [
        "## Tune a custom model\n",
        "\n",
        "In this example you'll use tuning to help create a model that requires no prompting or system instructions and outputs succinct text from the classes you provide in the training data.\n",
        "\n",
        "The data contains both input text (the processed posts) and output text (the category, or newsgroup), which you can use to start tuning a model.\n",
        "\n",
        "The Python SDK for tuning supports Pandas dataframes as input, so you don't need any custom data generators or pipelines. Just specify the input and the relevant columns as the `input_key` and `output_key`.\n",
        "\n",
        "When calling `create_tuned_model`, you can specify model tuning hyperparameters too:\n",
        " - `epoch_count`: defines how many times to loop through the data,\n",
        " - `batch_size`: defines how many rows to process in a single step, and\n",
        " - `learning_rate`: defines the scaling factor for updating model weights at each step.\n",
        "\n",
        "You can also choose to omit them and use the defaults. [Learn more](https://developers.google.com/machine-learning/crash-course/linear-regression/hyperparameters) about these parameters and how they work. For this example these parameters were selected by running some tuning jobs and selecting parameters that were both effective and quick."
      ],
      "metadata": {
        "id": "Ok7ugrLzcghX"
      }
    },
    {
      "cell_type": "code",
      "source": [
        "from collections.abc import Iterable\n",
        "import random\n",
        "\n",
        "\n",
        "# Append a random number to the model ID so you can re-run with a higher chance\n",
        "# of creating a unique model ID.\n",
        "model_id = f\"newsgroup-classifier-{random.randint(10000, 99999)}\"\n",
        "\n",
        "# Upload the training data and queue the tuning job.\n",
        "tuning_op = genai.create_tuned_model(\n",
        "    \"models/gemini-1.5-flash-001-tuning\",\n",
        "    training_data=df_train,\n",
        "    input_key=\"Text\",  # the column to use as input\n",
        "    output_key=\"Class Name\",  # the column to use as output\n",
        "    id=model_id,\n",
        "    display_name=\"Newsgroup classification model\",\n",
        "    batch_size=16,\n",
        "    epoch_count=2,\n",
        ")\n",
        "\n",
        "print(model_id)"
      ],
      "metadata": {
        "id": "pWOZlspfY8dV",
        "trusted": true,
        "execution": {
          "iopub.status.busy": "2024-11-15T02:02:32.848221Z",
          "iopub.execute_input": "2024-11-15T02:02:32.848797Z",
          "iopub.status.idle": "2024-11-15T02:02:48.653405Z",
          "shell.execute_reply.started": "2024-11-15T02:02:32.848746Z",
          "shell.execute_reply": "2024-11-15T02:02:48.651667Z"
        },
        "outputId": "380b6fb4-4436-41a2-ca39-c53ac023da7f"
      },
      "outputs": [
        {
          "name": "stdout",
          "text": "newsgroup-classifier-56777\n",
          "output_type": "stream"
        }
      ],
      "execution_count": null
    },
    {
      "cell_type": "markdown",
      "source": [
        "This has created a tuning job that will run in the background. To inspect the progress of the tuning job, run this cell to plot the current status and loss curve. Once the status reaches `ACTIVE`, tuning is complete and the model is ready to use.\n",
        "\n",
        "Tuning jobs are queued, so it may look like no training steps have been taken initially but it will progress. Tuning can take upwards of 20 minutes, depending on factors like your dataset size and how busy the tuning infrastrature is. Why not treat yourself to a nice cup of tea while you wait, or come and say \"Hi!\" to [yours truly](https://discord.com/users/132124213132787712) in the group [Discord](https://discord.com/invite/kaggle).\n",
        "\n",
        "It is safe to stop this cell at any point. It will not stop the tuning job."
      ],
      "metadata": {
        "id": "NQ3YZ2MBubCY"
      }
    },
    {
      "cell_type": "code",
      "source": [
        "import time\n",
        "import seaborn as sns\n",
        "\n",
        "\n",
        "while (tuned_model := genai.get_tuned_model(f\"tunedModels/{model_id}\")).state.name != 'ACTIVE':\n",
        "\n",
        "    print(tuned_model.state)\n",
        "    time.sleep(60)\n",
        "\n",
        "print(f\"Done! The model is {tuned_model.state.name}\")\n",
        "\n",
        "# Plot the loss curve.\n",
        "snapshots = pd.DataFrame(tuned_model.tuning_task.snapshots)\n",
        "sns.lineplot(data=snapshots, x=\"step\", y=\"mean_loss\")\n"
      ],
      "metadata": {
        "id": "c4ef5f13692d",
        "trusted": true,
        "execution": {
          "iopub.status.busy": "2024-11-15T02:03:07.865056Z",
          "iopub.execute_input": "2024-11-15T02:03:07.865457Z"
        },
        "outputId": "629cce8c-2e62-42d5-d10a-46f52a1a8ef1"
      },
      "outputs": [
        {
          "name": "stdout",
          "text": "State.CREATING\n",
          "output_type": "stream"
        }
      ],
      "execution_count": null
    },
    {
      "cell_type": "markdown",
      "source": [
        "Note that the `seaborn` module may output warnings containing `FutureWarning: use_inf_as_na option is deprecated`. These are expected and can be ignored."
      ],
      "metadata": {
        "id": "9-qiIdK4u80z"
      }
    },
    {
      "cell_type": "markdown",
      "source": [
        "## Use the new model\n",
        "\n",
        "Now that you have a tuned model, try it out with custom data. You use the same API as a normal Gemini API interaction, but you specify your new model as the model name, using the `tunedModels/` prefix."
      ],
      "metadata": {
        "id": "oCeRTs3LipaV"
      }
    },
    {
      "cell_type": "code",
      "source": [
        "your_model = genai.GenerativeModel(f\"tunedModels/{model_id}\")\n",
        "\n",
        "new_text = \"\"\"\n",
        "First-timer looking to get out of here.\n",
        "\n",
        "Hi, I'm writing about my interest in travelling to the outer limits!\n",
        "\n",
        "What kind of craft can I buy? What is easiest to access from this 3rd rock?\n",
        "\n",
        "Let me know how to do that please.\n",
        "\"\"\"\n",
        "\n",
        "response = your_model.generate_content(new_text)\n",
        "print(response.text)"
      ],
      "metadata": {
        "id": "hyO2-MXLvM6a",
        "trusted": true,
        "execution": {
          "iopub.status.busy": "2024-11-14T03:32:10.410531Z",
          "iopub.execute_input": "2024-11-14T03:32:10.411522Z",
          "iopub.status.idle": "2024-11-14T03:32:17.642646Z",
          "shell.execute_reply.started": "2024-11-14T03:32:10.411455Z",
          "shell.execute_reply": "2024-11-14T03:32:17.641197Z"
        }
      },
      "outputs": [],
      "execution_count": null
    },
    {
      "cell_type": "markdown",
      "source": [
        "### Evaluation\n",
        "\n",
        "You can see that the model outputs labels that correspond to those in the training data, and without any system instructions or prompting, which is already a great improvement. Now see how well it performs on the test set.\n",
        "\n",
        "Note that there is no parallelism in this example; classifying the test sub-set will take a few minutes."
      ],
      "metadata": {
        "id": "xajLek9DySH_"
      }
    },
    {
      "cell_type": "code",
      "source": [
        "def classify_text(text: str) -> str:\n",
        "    \"\"\"Classify the provided text into a known newsgroup.\"\"\"\n",
        "    response = your_model.generate_content(text, request_options=retry_policy)\n",
        "    rc = response.candidates[0]\n",
        "\n",
        "    # Any errors, filters, recitation, etc we can mark as a general error\n",
        "    if rc.finish_reason.name != \"STOP\":\n",
        "        return \"(error)\"\n",
        "    else:\n",
        "        return rc.content.parts[0].text\n",
        "\n",
        "\n",
        "# The sampling here is just to minimise your quota usage. If you can, you should\n",
        "# evaluate the whole test set with `df_model_eval = df_test.copy()`.\n",
        "df_model_eval = sample_data(df_test, 4, '.*')\n",
        "\n",
        "\n",
        "df_model_eval[\"Prediction\"] = df_model_eval[\"Text\"].progress_apply(classify_text)\n",
        "\n",
        "accuracy = (df_model_eval[\"Class Name\"] == df_model_eval[\"Prediction\"]).sum() / len(df_model_eval)\n",
        "print(f\"Accuracy: {accuracy:.2%}\")"
      ],
      "metadata": {
        "id": "6T2Y3ZApvbMw",
        "trusted": true,
        "execution": {
          "iopub.status.busy": "2024-11-14T03:32:17.644082Z",
          "iopub.execute_input": "2024-11-14T03:32:17.644483Z",
          "iopub.status.idle": "2024-11-14T03:33:05.035916Z",
          "shell.execute_reply.started": "2024-11-14T03:32:17.644443Z",
          "shell.execute_reply": "2024-11-14T03:33:05.034747Z"
        }
      },
      "outputs": [],
      "execution_count": null
    },
    {
      "cell_type": "markdown",
      "source": [
        "## Compare token usage\n",
        "\n",
        "AI Studio and the Gemini API provide model tuning at no cost, however normal limits and charges apply for *use* of a tuned model.\n",
        "\n",
        "The size of the input prompt and other generation config like system instructions, as well as the number of generated output tokens, all contribute to the overall cost of a request."
      ],
      "metadata": {
        "id": "DuXXVh_Dipae"
      }
    },
    {
      "cell_type": "code",
      "source": [
        "# Calculate the *input* cost of the baseline model with system instructions.\n",
        "sysint_tokens = instructed_model.count_tokens(sample_row).total_tokens\n",
        "print(f'System instructed baseline model: {sysint_tokens} (input)')\n",
        "\n",
        "# Calculate the input cost of the tuned model.\n",
        "tuned_tokens = your_model.count_tokens(sample_row).total_tokens\n",
        "print(f'Tuned model: {tuned_tokens} (input)')\n",
        "\n",
        "savings = (sysint_tokens - tuned_tokens) / tuned_tokens\n",
        "print(f'Token savings: {savings:.2%}')  # Note that this is only n=1."
      ],
      "metadata": {
        "trusted": true,
        "execution": {
          "iopub.status.busy": "2024-11-14T03:33:05.039144Z",
          "iopub.execute_input": "2024-11-14T03:33:05.03965Z",
          "iopub.status.idle": "2024-11-14T03:33:05.399134Z",
          "shell.execute_reply.started": "2024-11-14T03:33:05.039596Z",
          "shell.execute_reply": "2024-11-14T03:33:05.397806Z"
        },
        "id": "y4rAy73Iipaf"
      },
      "outputs": [],
      "execution_count": null
    },
    {
      "cell_type": "markdown",
      "source": [
        "The earlier verbose model also produced more output tokens than needed for this task."
      ],
      "metadata": {
        "id": "Iqyj9ySqipaf"
      }
    },
    {
      "cell_type": "code",
      "source": [
        "baseline_token_output = baseline_response.usage_metadata.candidates_token_count\n",
        "print('Baseline (verbose) output tokens:', baseline_token_output)\n",
        "\n",
        "tuned_model_output = your_model.generate_content(sample_row)\n",
        "tuned_tokens_output = tuned_model_output.usage_metadata.candidates_token_count\n",
        "print('Tuned output tokens:', tuned_tokens_output)"
      ],
      "metadata": {
        "trusted": true,
        "execution": {
          "iopub.status.busy": "2024-11-14T03:33:05.400739Z",
          "iopub.execute_input": "2024-11-14T03:33:05.401116Z",
          "iopub.status.idle": "2024-11-14T03:33:06.369214Z",
          "shell.execute_reply.started": "2024-11-14T03:33:05.401076Z",
          "shell.execute_reply": "2024-11-14T03:33:06.367883Z"
        },
        "id": "tgSdkQ7jipag"
      },
      "outputs": [],
      "execution_count": null
    },
    {
      "cell_type": "markdown",
      "source": [
        "## Next steps\n",
        "\n",
        "Now that you have tuned a classification model, try some other tasks, like tuning a model to respond with a specific tone or style using hand-written examples (or even generated examples!). Kaggle hosts [a number of datasets](https://www.kaggle.com/datasets) you can try out.\n",
        "\n",
        "Learn about [when supervised fine-tuning is most effective](https://cloud.google.com/blog/products/ai-machine-learning/supervised-fine-tuning-for-gemini-llm).\n",
        "\n",
        "And check out the [fine-tuning tutorial](https://ai.google.dev/gemini-api/docs/model-tuning/tutorial?hl=en&lang=python) for another example that shows a tuned model extending beyond the training data to new, unseen inputs."
      ],
      "metadata": {
        "id": "6c1204a5d0ab"
      }
    }
  ]
}